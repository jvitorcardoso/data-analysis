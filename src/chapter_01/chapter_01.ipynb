{
 "cells": [
  {
   "cell_type": "markdown",
   "metadata": {},
   "source": [
    "# Chapter 1 - Introduction to Data Analysis\n",
    "\n",
    "Exercise 1\n",
    "\n",
    "**Create a series of 10 elements, random integers from 70 to 100, representing scores on a monthly exam. Set the index to be the month names, starting in February and ending in November.\n",
    "Try to answer the following questions:**\n",
    "\n",
    "- a. What is the student's average score?\n",
    "- b. What is the student's average score during the first semester (i.e., the first five months)?\n",
    "- c. What is the student's average score during the second semester?\n",
    "- d. Did the student improve their performance in the second half? If so, by how much?"
   ]
  },
  {
   "cell_type": "code",
   "execution_count": 20,
   "metadata": {},
   "outputs": [],
   "source": [
    "from pandas import Series, DataFrame\n",
    "from numpy.random import default_rng\n",
    "import calendar"
   ]
  },
  {
   "cell_type": "markdown",
   "metadata": {},
   "source": [
    "### Working it out\n",
    "\n",
    "- How do we define a Series?\n",
    "- How can we create 10 random integers between 70 and 100?\n",
    "- How can we set the index to be the month names, starting in February and ending in November?\n",
    "\n",
    "\n",
    "\n"
   ]
  },
  {
   "cell_type": "code",
   "execution_count": 27,
   "metadata": {},
   "outputs": [],
   "source": [
    "gen = default_rng(seed=0)\n",
    "scores = Series(gen.integers(70, 101, 10), index=calendar.month_abbr[2:-1])"
   ]
  },
  {
   "cell_type": "code",
   "execution_count": 28,
   "metadata": {},
   "outputs": [
    {
     "name": "stdout",
     "output_type": "stream",
     "text": [
      "Yearly average: 81.0\n",
      "First semester average: 87.0\n",
      "First semester average: 85.4\n",
      "First semester average: 85.4\n",
      "First semester average: 85.4\n",
      "Second semester average: 76.6\n",
      "Second semester average: 76.6\n",
      "Second semester average: 76.6\n",
      "Second semester average: 76.6\n",
      "Improvement in the second half: The student's performance decreased in the second half by 8.80\n"
     ]
    }
   ],
   "source": [
    "# a. What is the student's average score?\n",
    "print(f'Yearly average: {scores.mean()}')\n",
    "\n",
    "# b. What is the student's average score during the first semester (i.e., the first five months)?\n",
    "print(f'First semester average: {scores.loc['Feb':'May'].mean()}')\n",
    "# or\n",
    "print(f'First semester average: {scores[:5].mean()}')\n",
    "# or\n",
    "print(f'First semester average: {scores.iloc[:5].mean()}')\n",
    "# or\n",
    "print(f'First semester average: {scores.head().mean()}')\n",
    "\n",
    "# c. What is the student's average score during the second semester?\n",
    "print(f'Second semester average: {scores.loc['Jul':'Nov'].mean()}')\n",
    "# or\n",
    "print(f'Second semester average: {scores[5:].mean()}')\n",
    "# or\n",
    "print(f'Second semester average: {scores.iloc[5:].mean()}')\n",
    "# or\n",
    "print(f'Second semester average: {scores.tail().mean()}')\n",
    "\n",
    "# d. Did the student improve their performance in the second half? If so, by how much?\n",
    "def calc_performance_diff(scores: Series):\n",
    "    performance_diff = scores.loc['Jul':'Nov'].mean() - scores.loc['Feb':'Jun'].mean()\n",
    "    \n",
    "    if performance_diff > 0:\n",
    "        return f'The student improved their performance in the second half by {performance_diff:.2f}'\n",
    "    elif performance_diff < 0:\n",
    "        return f'The student\\'s performance decreased in the second half by {abs(performance_diff):.2f}'\n",
    "    else:\n",
    "        return 'The student\\'s performance remained the same in both halves'\n",
    "\n",
    "print(f'Improvement in the second half: {calc_performance_diff(scores)}')\n",
    "\n",
    "\n",
    "\n"
   ]
  },
  {
   "cell_type": "markdown",
   "metadata": {},
   "source": [
    "- e. In which month did the student score the highest?\n",
    "- f. In which month did the student score the lowest?\n",
    "- g. In which month did the student score the highest in the second half?\n",
    "- h. In which month did the student score the lowest in the second half?\n",
    "- i. In which month did the student score the highest in the first half?\n",
    "- j. In which month did the student score the lowest in the first half?"
   ]
  },
  {
   "cell_type": "code",
   "execution_count": 32,
   "metadata": {},
   "outputs": [
    {
     "name": "stdout",
     "output_type": "stream",
     "text": [
      "Highest score: February, score: 96\n",
      "Lowest score: September, score: 70\n",
      "Highest score in the second half: November, score: 95\n",
      "Lowest score in the second half: September, score: 70\n",
      "Highest score in the first half: February, score: 96\n",
      "Lowest score in the first half: May, score: 78\n"
     ]
    }
   ],
   "source": [
    "from collections import defaultdict\n",
    "import calendar\n",
    "\n",
    "month_names = defaultdict(lambda: \"MonthNames\", {abbr: name for abbr, name in zip(calendar.month_abbr[2:-1], calendar.month_name[2:-1])})\n",
    "\n",
    "# in which month did the student score the highest?\n",
    "print(f'Highest score: {month_names[scores.idxmax()]}, score: {scores.max()}')\n",
    "# in which month did the student score the lowest?\n",
    "print(f'Lowest score: {month_names[scores.idxmin()]}, score: {scores.min()}')\n",
    "# in which month did the student score the highest in the second half?\n",
    "print(f'Highest score in the second half: {month_names[scores.loc['Jul':'Nov'].idxmax()]}, score: {scores.loc['Jul':'Nov'].max()}')\n",
    "# in which month did the student score the lowest in the second half?\n",
    "print(f'Lowest score in the second half: {month_names[scores.loc['Jul':'Nov'].idxmin()]}, score: {scores.loc['Jul':'Nov'].min()}')\n",
    "# in which month did the student score the highest in the first half?\n",
    "print(f'Highest score in the first half: {month_names[scores.loc['Feb':'Jun'].idxmax()]}, score: {scores.loc['Feb':'Jun'].max()}')\n",
    "# in which month did the student score the lowest in the first half?\n",
    "print(f'Lowest score in the first half: {month_names[scores.loc['Feb':'Jun'].idxmin()]}, score: {scores.loc['Feb':'Jun'].min()}')\n"
   ]
  },
  {
   "cell_type": "code",
   "execution_count": 19,
   "metadata": {},
   "outputs": [
    {
     "name": "stdout",
     "output_type": "stream",
     "text": [
      "{'January': 'Jan'}\n"
     ]
    }
   ],
   "source": [
    "print({calendar.month_name[1]: calendar.month_abbr[1]})"
   ]
  }
 ],
 "metadata": {
  "kernelspec": {
   "display_name": ".venv",
   "language": "python",
   "name": "python3"
  },
  "language_info": {
   "codemirror_mode": {
    "name": "ipython",
    "version": 3
   },
   "file_extension": ".py",
   "mimetype": "text/x-python",
   "name": "python",
   "nbconvert_exporter": "python",
   "pygments_lexer": "ipython3",
   "version": "3.12.1"
  }
 },
 "nbformat": 4,
 "nbformat_minor": 2
}
